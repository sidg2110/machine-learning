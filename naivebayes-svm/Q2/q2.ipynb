{
 "cells": [
  {
   "cell_type": "code",
   "execution_count": 3,
   "metadata": {},
   "outputs": [],
   "source": [
    "import numpy as np\n",
    "import matplotlib.pyplot as plt\n",
    "import pandas as pd\n",
    "import os\n",
    "\n",
    "from cvxopt import matrix, solvers\n",
    "import cv2\n",
    "\n",
    "from sklearn import svm"
   ]
  },
  {
   "cell_type": "code",
   "execution_count": 4,
   "metadata": {},
   "outputs": [],
   "source": [
    "def get_img_data(dir_path):\n",
    "    feature_len = 768\n",
    "    desired_width = 16\n",
    "    desired_height = 16\n",
    "    data = np.empty((feature_len, 0))\n",
    "\n",
    "    files = os.listdir(dir_path)\n",
    "\n",
    "    for file in files:\n",
    "        image = cv2.imread(os.path.join(dir_path, file))\n",
    "        image = cv2.resize(image, (desired_width, desired_height))\n",
    "        np_array = np.array(image)\n",
    "        np_vector = np_array.flatten().reshape((feature_len, 1))\n",
    "        data = np.concatenate((data, np_vector), axis=1)\n",
    "    \n",
    "    data = data/255\n",
    "    \n",
    "    return data\n",
    "\n",
    "def format_data(dir_path_1, dir_path_2):\n",
    "    class_1_data = get_img_data(dir_path_1)         # +1\n",
    "    class_2_data = get_img_data(dir_path_2)         # -1\n",
    "\n",
    "    pos_labels = np.full((1, class_1_data.shape[1]), 1.0)\n",
    "    neg_labels = np.full((1, class_2_data.shape[1]), -1.0)\n",
    "    \n",
    "    data_x = np.concatenate((class_1_data, class_2_data), axis=1)\n",
    "    data_y = np.concatenate((pos_labels, neg_labels), axis=1)\n",
    "\n",
    "    return data_x, data_y\n",
    "\n",
    "training_data_x, training_data_y = format_data('train/1/', 'train/2/')\n"
   ]
  },
  {
   "cell_type": "code",
   "execution_count": 5,
   "metadata": {},
   "outputs": [],
   "source": [
    "def get_matrices_linear(data_x, data_y, c):\n",
    "    \n",
    "    m = data_x.shape[1]\n",
    "\n",
    "    matrix_yx = data_y * data_x\n",
    "    matrix_p = np.matmul(matrix_yx.T, matrix_yx)\n",
    "    \n",
    "    matrix_q = np.full((m,1), -1.0)\n",
    "\n",
    "    matrix_b = np.array([[0.0]])\n",
    "\n",
    "    matrix_a = data_y\n",
    "\n",
    "    matrix_h_C = np.full((m, 1), c)\n",
    "    matrix_h_0 = np.full((m, 1), 0.0)\n",
    "    matrix_h = np.concatenate((matrix_h_C, matrix_h_0), axis=0)\n",
    "\n",
    "    matrix_g_pos = np.eye(m, dtype=float)\n",
    "    matrix_g_neg = (-1) * np.eye(m, dtype=float)\n",
    "    matrix_g = np.concatenate((matrix_g_pos, matrix_g_neg), axis=0)\n",
    "\n",
    "    return matrix(matrix_p), matrix(matrix_q), matrix(matrix_g), matrix(matrix_h), matrix(matrix_a), matrix(matrix_b)\n",
    "\n",
    "def optimise(p, q, g, h, a, b):\n",
    "    solution = solvers.qp(p, q, g, h, a, b)\n",
    "    return solution"
   ]
  },
  {
   "cell_type": "code",
   "execution_count": 6,
   "metadata": {},
   "outputs": [
    {
     "name": "stdout",
     "output_type": "stream",
     "text": [
      "     pcost       dcost       gap    pres   dres\n",
      " 0: -1.0489e+03 -1.2518e+04  8e+04  3e+00  3e-11\n",
      " 1: -6.8322e+02 -8.0216e+03  2e+04  5e-01  3e-11\n",
      " 2: -4.8967e+02 -3.1466e+03  4e+03  1e-01  2e-11\n",
      " 3: -4.0304e+02 -1.5654e+03  2e+03  5e-02  2e-11\n",
      " 4: -3.7361e+02 -7.7703e+02  6e+02  1e-02  1e-11\n",
      " 5: -3.8001e+02 -5.4972e+02  2e+02  4e-03  1e-11\n",
      " 6: -3.9526e+02 -4.6864e+02  8e+01  1e-03  2e-11\n",
      " 7: -4.0571e+02 -4.3399e+02  3e+01  2e-04  2e-11\n",
      " 8: -4.1139e+02 -4.2094e+02  1e+01  1e-05  2e-11\n",
      " 9: -4.1426e+02 -4.1682e+02  3e+00  3e-06  2e-11\n",
      "10: -4.1514e+02 -4.1559e+02  5e-01  4e-14  2e-11\n",
      "11: -4.1533e+02 -4.1537e+02  3e-02  4e-13  2e-11\n",
      "12: -4.1535e+02 -4.1535e+02  7e-04  2e-13  2e-11\n",
      "13: -4.1535e+02 -4.1535e+02  1e-05  7e-14  2e-11\n",
      "Optimal solution found.\n"
     ]
    },
    {
     "data": {
      "text/plain": [
       "array([[2.01878377e-10],\n",
       "       [2.13313590e-10],\n",
       "       [6.20430849e-10],\n",
       "       ...,\n",
       "       [1.97182100e-10],\n",
       "       [4.21109982e-10],\n",
       "       [3.20454949e-10]])"
      ]
     },
     "execution_count": 6,
     "metadata": {},
     "output_type": "execute_result"
    }
   ],
   "source": [
    "p, q, g, h, a, b = get_matrices_linear(training_data_x, training_data_y, 1.0)\n",
    "solution = optimise(p, q, g, h, a, b)\n",
    "alpha = np.array(solution['x'])\n",
    "alpha"
   ]
  },
  {
   "cell_type": "code",
   "execution_count": 15,
   "metadata": {},
   "outputs": [
    {
     "data": {
      "text/plain": [
       "-885.7576898279883"
      ]
     },
     "execution_count": 15,
     "metadata": {},
     "output_type": "execute_result"
    }
   ],
   "source": [
    "solution['primal objective']"
   ]
  },
  {
   "cell_type": "code",
   "execution_count": 13,
   "metadata": {},
   "outputs": [],
   "source": [
    "def get_matrices_gaussian(data_x, data_y, gamma, c):\n",
    "    m = data_x.shape[1]\n",
    "    temp = data_x.T\n",
    "    # matrix p\n",
    "    matrix_p = np.zeros((m, m))\n",
    "    for i in range(m):\n",
    "        for j in range(m):\n",
    "            norm_sq = (np.linalg.norm(temp[i] - temp[j]))**2\n",
    "            kernel = np.exp(-gamma*norm_sq)\n",
    "            matrix_p[i, j] = data_y[0, i]*data_y[0, j]*kernel\n",
    "    \n",
    "    matrix_q = np.full((m,1), -1.0)\n",
    "\n",
    "    matrix_b = np.array([[0.0]])\n",
    "\n",
    "    matrix_a = data_y\n",
    "\n",
    "    matrix_h_C = np.full((m, 1), c)\n",
    "    matrix_h_0 = np.full((m, 1), 0.0)\n",
    "    matrix_h = np.concatenate((matrix_h_C, matrix_h_0), axis=0)\n",
    "\n",
    "    matrix_g_pos = np.eye(m, dtype=float)\n",
    "    matrix_g_neg = (-1) * np.eye(m, dtype=float)\n",
    "    matrix_g = np.concatenate((matrix_g_pos, matrix_g_neg), axis=0)\n",
    "\n",
    "    return matrix(matrix_p), matrix(matrix_q), matrix(matrix_g), matrix(matrix_h), matrix(matrix_a), matrix(matrix_b)\n"
   ]
  },
  {
   "cell_type": "code",
   "execution_count": 14,
   "metadata": {},
   "outputs": [
    {
     "name": "stdout",
     "output_type": "stream",
     "text": [
      "     pcost       dcost       gap    pres   dres\n",
      " 0: -1.1860e+03 -1.2578e+04  7e+04  3e+00  2e-13\n",
      " 1: -7.3522e+02 -8.1296e+03  1e+04  4e-01  2e-13\n",
      " 2: -5.6455e+02 -1.6716e+03  1e+03  8e-03  2e-13\n",
      " 3: -6.6510e+02 -1.3790e+03  7e+02  5e-03  2e-13\n",
      " 4: -7.4937e+02 -1.1580e+03  4e+02  2e-03  2e-13\n",
      " 5: -7.7440e+02 -1.1039e+03  3e+02  2e-03  2e-13\n",
      " 6: -8.0472e+02 -1.0385e+03  2e+02  9e-04  2e-13\n",
      " 7: -8.3295e+02 -9.7750e+02  1e+02  3e-04  2e-13\n",
      " 8: -8.4698e+02 -9.5141e+02  1e+02  2e-04  2e-13\n",
      " 9: -8.6050e+02 -9.2677e+02  7e+01  1e-04  2e-13\n",
      "10: -8.7205e+02 -9.0692e+02  4e+01  5e-05  2e-13\n",
      "11: -8.7866e+02 -8.9617e+02  2e+01  2e-05  2e-13\n",
      "12: -8.8279e+02 -8.8974e+02  7e+00  6e-06  2e-13\n",
      "13: -8.8527e+02 -8.8638e+02  1e+00  8e-07  2e-13\n",
      "14: -8.8573e+02 -8.8578e+02  5e-02  2e-08  2e-13\n",
      "15: -8.8576e+02 -8.8576e+02  1e-03  6e-10  2e-13\n",
      "16: -8.8576e+02 -8.8576e+02  3e-05  1e-11  2e-13\n",
      "Optimal solution found.\n"
     ]
    },
    {
     "data": {
      "text/plain": [
       "array([[1.35894135e-09],\n",
       "       [3.77550910e-09],\n",
       "       [9.99999981e-01],\n",
       "       ...,\n",
       "       [1.00276076e-09],\n",
       "       [2.00270391e-09],\n",
       "       [9.99999988e-01]])"
      ]
     },
     "execution_count": 14,
     "metadata": {},
     "output_type": "execute_result"
    }
   ],
   "source": [
    "p, q, g, h, a, b = get_matrices_gaussian(training_data_x, training_data_y, 0.001, 1.0)\n",
    "solution = optimise(p, q, g, h, a, b)\n",
    "alpha = np.array(solution['x'])\n",
    "alpha"
   ]
  },
  {
   "cell_type": "code",
   "execution_count": null,
   "metadata": {},
   "outputs": [],
   "source": [
    "def "
   ]
  }
 ],
 "metadata": {
  "kernelspec": {
   "display_name": "Python 3",
   "language": "python",
   "name": "python3"
  },
  "language_info": {
   "codemirror_mode": {
    "name": "ipython",
    "version": 3
   },
   "file_extension": ".py",
   "mimetype": "text/x-python",
   "name": "python",
   "nbconvert_exporter": "python",
   "pygments_lexer": "ipython3",
   "version": "3.11.4"
  },
  "orig_nbformat": 4
 },
 "nbformat": 4,
 "nbformat_minor": 2
}
