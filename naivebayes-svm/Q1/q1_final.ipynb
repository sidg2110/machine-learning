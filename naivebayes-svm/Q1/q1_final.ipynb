{
 "cells": [
  {
   "cell_type": "markdown",
   "metadata": {},
   "source": [
    "IMPORTING LIBRARIES"
   ]
  },
  {
   "cell_type": "code",
   "execution_count": 14,
   "metadata": {},
   "outputs": [
    {
     "name": "stderr",
     "output_type": "stream",
     "text": [
      "[nltk_data] Downloading package wordnet to\n",
      "[nltk_data]     C:\\Users\\ee121\\AppData\\Roaming\\nltk_data...\n",
      "[nltk_data]   Package wordnet is already up-to-date!\n",
      "[nltk_data] Downloading package stopwords to\n",
      "[nltk_data]     C:\\Users\\ee121\\AppData\\Roaming\\nltk_data...\n",
      "[nltk_data]   Package stopwords is already up-to-date!\n"
     ]
    }
   ],
   "source": [
    "import numpy as np\n",
    "import pandas as pd\n",
    "import matplotlib.pyplot as plt\n",
    "\n",
    "# To generate wordclouds\n",
    "from wordcloud import WordCloud, STOPWORDS\n",
    "\n",
    "# To show images\n",
    "from PIL import Image\n",
    "\n",
    "# For stemming and lemmatising\n",
    "import nltk\n",
    "nltk.download('wordnet')\n",
    "nltk.download('stopwords')\n",
    "\n",
    "# To compute the confusion matrix\n",
    "from sklearn.metrics import confusion_matrix"
   ]
  },
  {
   "cell_type": "markdown",
   "metadata": {},
   "source": [
    "CLASS TO REPRESENT NAIVE BAYE'S MODELS"
   ]
  },
  {
   "cell_type": "code",
   "execution_count": 35,
   "metadata": {},
   "outputs": [],
   "source": [
    "# Represents a Naive Baye's classification model\n",
    "class Naive_Bayes:\n",
    "\n",
    "    '''\n",
    "    training_data: np.ndarray | numpy array containing all the training data - labels and documents\n",
    "    label_selector: string | defines the probability distribution used to predict label during inference | MULTINOULLI, RANDOM, POSITIVE\n",
    "    data_formatter: function | defines how the training data is modified | returns labels and documents | format_data, format_data_stemming\n",
    "    features: defines what features to use in the model | UNIGRAM, BIGRAM, \n",
    "    '''\n",
    "    \n",
    "    def __init__(self, training_data, data_formatter, feature_mode, smoothening_param):\n",
    "                \n",
    "        # Dictionary to map label to total length of all documents of that label\n",
    "        self.total_label_len = {\"Positive\": 0, \"Negative\": 0, \"Neutral\": 0}\n",
    "\n",
    "        # Dictionary to map label to number of documents of that label\n",
    "        self.label_freq = {\"Positive\": 0, \"Negative\": 0, \"Neutral\": 0}\n",
    "\n",
    "        # Vocabulary for this model\n",
    "        self.vocab = {}\n",
    "\n",
    "        # number of words in vocabulary\n",
    "        self.vocab_len = 0\n",
    "\n",
    "        # parameters of multinoulli distribution if labels are distributed using multinoulli distribution\n",
    "        # Keys - Positive, Negative, Neutral\n",
    "        self.phi = {}\n",
    "\n",
    "        # parameters of multinoulli distrbution considering all parameters are distributed using multinoulli distribution\n",
    "        # Keys - every word from vocabulary\n",
    "        # Values - dictionary mapping label to corresponding parameter\n",
    "        self.word_params = {}\n",
    "\n",
    "        # Smoothening parameter for Laplace Smoothening\n",
    "        self.alpha = smoothening_param\n",
    "\n",
    "        self.training_data = training_data\n",
    "        self.training_docs, self.training_labels = data_formatter(training_data)\n",
    "        self.m = self.training_docs.shape[1]        # number of training examples\n",
    "\n",
    "        # determines what to keep as features\n",
    "        self.feature_mode = feature_mode\n",
    "\n",
    "        self.create_vocabulary()            # creates the vocabulary\n",
    "        self.estimate_parameters()          # estimates all the parameters (assumes labels to be represented using multinoulli distribution)\n",
    "\n",
    "    # creates the vocabulary from training documents\n",
    "    # also computes the number of documents and total length of documents of each label\n",
    "    def create_vocabulary(self):\n",
    "        # iterates over all the documents\n",
    "        for i in range(self.m):\n",
    "            label = self.training_labels[0][i]\n",
    "            doc = self.training_docs[0][i]\n",
    "            \n",
    "            words = doc.split()     # splits the sentence into words using space as delimiter\n",
    "\n",
    "            self.label_freq[label] += 1\n",
    "            self.total_label_len[label] += len(words)\n",
    "            \n",
    "            # iterates over every word in this document\n",
    "            # inserts the word into dictionary and if already present increases its frequency for the corresponding label\n",
    "            for word in words:\n",
    "                if word not in self.vocab.keys():\n",
    "                    self.vocab[word] = {\"Positive\": 0, \"Negative\": 0, \"Neutral\": 0}\n",
    "                self.vocab[word][label] += 1\n",
    "\n",
    "            # if consecutive words are also treated as a feature\n",
    "            if self.feature_mode == 'BIGRAM':\n",
    "                for i in range(len(words)-1):\n",
    "                    feature = words[i] + ' ' + words[i+1]\n",
    "                    if feature not in self.vocab.keys():\n",
    "                        self.vocab[feature] = {\"Positive\": 0, \"Negative\": 0, \"Neutral\": 0}\n",
    "                    self.vocab[feature][label] += 1\n",
    "            elif self.feature_mode == '3GRAM':\n",
    "                for i in range(len(words)-1):\n",
    "                    feature = words[i] + ' ' + words[i+1]\n",
    "                    if feature not in self.vocab.keys():\n",
    "                        self.vocab[feature] = {\"Positive\": 0, \"Negative\": 0, \"Neutral\": 0}\n",
    "                    self.vocab[feature][label] += 1\n",
    "                for i in range(len(words)-2):\n",
    "                    feature = words[i] + ' ' + words[i+1] + ' ' + words[i+2]\n",
    "                    if feature not in self.vocab.keys():\n",
    "                        self.vocab[feature] = {\"Positive\": 0, \"Negative\": 0, \"Neutral\": 0}\n",
    "                    self.vocab[feature][label] += 1\n",
    "       \n",
    "        self.vocab_len = len(self.vocab)\n",
    "\n",
    "    # estimates the parameter of the model\n",
    "    # assumes labels to be selected using multinoulli distribution\n",
    "    # assumes bag-of-words model and each position is associated with the same multinoulli distribution\n",
    "    def estimate_parameters(self):\n",
    "\n",
    "        # Compute phi parameters used to select label\n",
    "        phi_pos = (self.label_freq[\"Positive\"]) / (self.m)\n",
    "        phi_neg = (self.label_freq[\"Negative\"]) / (self.m)\n",
    "        phi_neu = (self.label_freq[\"Neutral\"]) / (self.m)\n",
    "\n",
    "        self.phi = {\"Positive\": phi_pos, \"Negative\": phi_neg, \"Neutral\": phi_neu}\n",
    "\n",
    "        # Compute theta parameters used to select a word at a particular position\n",
    "        for word in self.vocab:\n",
    "            pos_freq = self.vocab[word][\"Positive\"]\n",
    "            neg_freq = self.vocab[word][\"Negative\"]\n",
    "            neu_freq = self.vocab[word][\"Neutral\"]\n",
    "\n",
    "            pos_param = (pos_freq + self.alpha) / (self.total_label_len[\"Positive\"] + self.vocab_len*self.alpha)\n",
    "            neg_param = (neg_freq + self.alpha) / (self.total_label_len[\"Negative\"] + self.vocab_len*self.alpha)\n",
    "            neu_param = (neu_freq + self.alpha) / (self.total_label_len[\"Neutral\"] + self.vocab_len*self.alpha)\n",
    "\n",
    "            self.word_params[word] = {\"Positive\": pos_param, \"Negative\": neg_param, \"Neutral\": neu_param}\n",
    "\n",
    "    # Returns the log probability of a word being present at any position given the label of the document\n",
    "    def compute_x_given_y(self, doc, label):\n",
    "        log_prob = 0\n",
    "        words = doc.split()\n",
    "\n",
    "        for word in words:\n",
    "            # Ignores the words which are not a part of vocabulary\n",
    "            if word in self.vocab.keys():\n",
    "                log_prob += np.log(self.word_params[word][label])\n",
    "    \n",
    "        # if we use consecutive words as a feature\n",
    "        if self.feature_mode == 'BIGRAM':\n",
    "            for i in range(len(words)-1):\n",
    "                feature = words[i] + ' ' + words[i+1]\n",
    "                if feature in self.vocab:\n",
    "                    log_prob += np.log(self.word_params[feature][label])\n",
    "        elif self.feature_mode == '3GRAM':\n",
    "            for i in range(len(words)-1):\n",
    "                feature = words[i] + ' ' + words[i+1]\n",
    "                if feature in self.vocab:\n",
    "                    log_prob += np.log(self.word_params[feature][label])\n",
    "            for i in range(len(words)-2):\n",
    "                feature = words[i] + ' ' + words[i+1] + ' ' + words[i+2]\n",
    "                if feature in self.vocab:\n",
    "                    log_prob += np.log(self.word_params[feature][label])            \n",
    "                \n",
    "        return log_prob\n",
    "    \n",
    "    # Returns a np array of the predictions made by our model for each document\n",
    "    def get_inference(self, docs):\n",
    "        inference = []\n",
    "\n",
    "        for i in range(docs.shape[1]):\n",
    "            doc = docs[0][i]\n",
    "\n",
    "            # Computes probability of x|y for each label depending on the label_selector function\n",
    "            pos_prob = self.compute_x_given_y(doc, \"Positive\") + np.log(self.phi[\"Positive\"])\n",
    "            neg_prob = self.compute_x_given_y(doc, \"Negative\") + np.log(self.phi[\"Negative\"])\n",
    "            neu_prob = self.compute_x_given_y(doc, \"Neutral\") + np.log(self.phi[\"Neutral\"])\n",
    "\n",
    "            # Determines which label has highest probability\n",
    "            max_value = max(pos_prob, neg_prob, neu_prob)\n",
    "\n",
    "            if max_value == neu_prob:\n",
    "                inference.append(\"Neutral\")\n",
    "            elif max_value == neg_prob:\n",
    "                inference.append(\"Negative\")\n",
    "            else:\n",
    "                inference.append(\"Positive\")\n",
    "        \n",
    "        return np.array(inference, ndmin=2)"
   ]
  },
  {
   "cell_type": "markdown",
   "metadata": {},
   "source": [
    "STOPWORDS FOR THE DATA"
   ]
  },
  {
   "cell_type": "code",
   "execution_count": 16,
   "metadata": {},
   "outputs": [],
   "source": [
    "# Extends STOPWORDS set to include noisy and redundant words\n",
    "# Such words include http, some noisy words and variations of covid and coronavirus\n",
    "alphabets = ['a', 'b', 'c', 'd', 'e', 'f', 'g', 'h', 'i', 'j', 'k', 'l', 'm', 'n', 'o', 'p', 'q', 'r', 's', 't', 'u', 'v', 'w', 'x', 'y', 'z']\n",
    "stopwords = STOPWORDS.union(['http', 'https', 'will', 't', 'co', 'coronavirus', 'COVID', 'COVID19', 'Covid-19', 'Covid_19'])\n",
    "stopwords = stopwords.union(alphabets)"
   ]
  },
  {
   "cell_type": "markdown",
   "metadata": {},
   "source": [
    "BASIC FORMATTING"
   ]
  },
  {
   "cell_type": "code",
   "execution_count": 17,
   "metadata": {},
   "outputs": [],
   "source": [
    "# Does not perform stemming or lemmatisation\n",
    "def format_data_basic(data):\n",
    "    m = data.shape[1]\n",
    "    labels = data[1].reshape((1, m))\n",
    "    docs = data[2].reshape((1, m))\n",
    "    return docs, labels"
   ]
  },
  {
   "cell_type": "markdown",
   "metadata": {},
   "source": [
    "PART - A <br>\n",
    "INFERENCE AND ACCURACY OVER TRAINING AND VALIDATION SETS"
   ]
  },
  {
   "cell_type": "code",
   "execution_count": 18,
   "metadata": {},
   "outputs": [
    {
     "data": {
      "text/plain": [
       "(0.8882579759137967, 0.6738536289098087)"
      ]
     },
     "execution_count": 18,
     "metadata": {},
     "output_type": "execute_result"
    }
   ],
   "source": [
    "# Reading training and validation CSV files\n",
    "training_data_1 = pd.read_csv('Corona_train.csv').to_numpy().T\n",
    "validation_data_1 = pd.read_csv('Corona_validation.csv').to_numpy().T\n",
    "\n",
    "# Getting the training documents and labels\n",
    "training_docs_1, training_labels_1 = format_data_basic(training_data_1)\n",
    "\n",
    "# Getting labels and documents from validation set\n",
    "validation_docs_1, validation_labels_1 = format_data_basic(validation_data_1)\n",
    "validation_examples_1 = validation_docs_1.shape[1]      # Number of examples in validation set\n",
    "\n",
    "# Learning the model\n",
    "# Smoothening param is fixed after trying with different values\n",
    "model_1 = Naive_Bayes(training_data_1, format_data_basic, 'UNIGRAM', 0.6)\n",
    "\n",
    "# Predicting the labels for both training and validation set using learnt parameters\n",
    "inference_training_1 = model_1.get_inference(model_1.training_docs)\n",
    "inference_validation_1 = model_1.get_inference(validation_docs_1)\n",
    "\n",
    "# Computing accuracy over training and validation sets\n",
    "accuracy_training_1 = (np.sum(inference_training_1 == model_1.training_labels)) / (model_1.m)\n",
    "accuracy_validation_1 = (np.sum(inference_validation_1 == validation_labels_1)) / (validation_examples_1)\n",
    "\n",
    "accuracy_training_1, accuracy_validation_1"
   ]
  },
  {
   "cell_type": "markdown",
   "metadata": {},
   "source": [
    "PART_A <br>\n",
    "CREATING THE WORDCLOUD FOR EACH CLASS USING TRAINING SET"
   ]
  },
  {
   "cell_type": "code",
   "execution_count": 19,
   "metadata": {},
   "outputs": [
    {
     "data": {
      "text/plain": [
       "<wordcloud.wordcloud.WordCloud at 0x1f4bd011710>"
      ]
     },
     "execution_count": 19,
     "metadata": {},
     "output_type": "execute_result"
    }
   ],
   "source": [
    "# maps the concatenated text from all the documents for each label\n",
    "label_text = {\"Positive\": \"\", \"Negative\": \"\", \"Neutral\": \"\"}\n",
    "\n",
    "# fills the label_text dictionary\n",
    "for i in range(model_1.m):\n",
    "    label = model_1.training_labels[0][i]\n",
    "    doc = model_1.training_docs[0][i]\n",
    "    label_text[label] = \" \".join([label_text[label], doc])\n",
    "\n",
    "def create_wordcloud(text):\n",
    "    wordcloud = WordCloud(background_color='white', height=600, width=400, stopwords=stopwords)\n",
    "    wordcloud.generate(text)\n",
    "    return wordcloud\n",
    "\n",
    "# Wordcloud for each label\n",
    "word_cloud_pos = create_wordcloud(label_text[\"Positive\"])\n",
    "word_cloud_neg = create_wordcloud(label_text[\"Negative\"])\n",
    "word_cloud_neu = create_wordcloud(label_text[\"Neutral\"])\n",
    "\n",
    "# Saves the created wordclouds to PNG files\n",
    "word_cloud_pos.to_file('wc-pos.png')\n",
    "word_cloud_neg.to_file('wc-neg.png')\n",
    "word_cloud_neu.to_file('wc-neu.png')\n",
    "\n",
    "# To show an image, use -\n",
    "# wc_pos = Image.open('wc-pos.png')\n",
    "# wc_neg = Image.open('wc-neg.png')\n",
    "# wc_neu = Image.open('wc-neu.png')\n",
    "# wc_pos.show()\n",
    "# wc_neg.show()\n",
    "# wc_neu.show()"
   ]
  },
  {
   "cell_type": "markdown",
   "metadata": {},
   "source": [
    "PART-B"
   ]
  },
  {
   "cell_type": "code",
   "execution_count": 20,
   "metadata": {},
   "outputs": [
    {
     "data": {
      "text/plain": [
       "(0.3270573944731248, 0.4385059216519891)"
      ]
     },
     "execution_count": 20,
     "metadata": {},
     "output_type": "execute_result"
    }
   ],
   "source": [
    "inference_training_random = []                  # Predictions on training set with random guess\n",
    "inference_training_positive = []                # Predictions on validation set with random guess\n",
    "inference_validation_random = []                # Predictions on training set with always positive guess\n",
    "inference_validation_positive = []              # Predictions on validation set with always positive guess\n",
    "\n",
    "# Fills the training and validation predictions with random guesses\n",
    "for i in range(training_docs_1.shape[1]):\n",
    "    label = np.random.choice(['Positive', 'Negative', 'Neutral'])\n",
    "    inference_training_random.append(label)\n",
    "    inference_training_positive.append(\"Positive\")\n",
    "\n",
    "# Fills the training and validation predictions with always positive guesses\n",
    "for i in range(validation_examples_1):\n",
    "    label = np.random.choice(['Positive', 'Negative', 'Neutral'])\n",
    "    inference_validation_random.append(label)\n",
    "    inference_validation_positive.append(\"Positive\")\n",
    "\n",
    "inference_training_random = np.array(inference_training_random, ndmin=2)\n",
    "inference_training_positive = np.array(inference_training_positive, ndmin=2)\n",
    "\n",
    "inference_validation_random = np.array(inference_validation_random, ndmin=2)\n",
    "inference_validation_positive = np.array(inference_validation_positive, ndmin=2)\n",
    "\n",
    "# Computing accuracy over validation sets\n",
    "accuracy_validation_random = (np.sum(inference_validation_random == validation_labels_1)) / (validation_examples_1)\n",
    "accuracy_validation_positive = (np.sum(inference_validation_positive == validation_labels_1)) / (validation_examples_1)\n",
    "\n",
    "accuracy_validation_random, accuracy_validation_positive"
   ]
  },
  {
   "cell_type": "markdown",
   "metadata": {},
   "source": [
    "PART-C <br>CONFUSION MATRIX"
   ]
  },
  {
   "cell_type": "code",
   "execution_count": 23,
   "metadata": {},
   "outputs": [
    {
     "data": {
      "text/plain": [
       "(array([[15738,   668,   196],\n",
       "        [  771, 13207,   188],\n",
       "        [ 1390,  1018,  4688]], dtype=int64),\n",
       " array([[1151,  256,   37],\n",
       "        [ 275,  926,   31],\n",
       "        [ 292,  183,  142]], dtype=int64),\n",
       " array([[5541, 5486, 5575],\n",
       "        [4844, 4712, 4610],\n",
       "        [2377, 2388, 2331]], dtype=int64),\n",
       " array([[480, 501, 463],\n",
       "        [401, 402, 429],\n",
       "        [213, 209, 195]], dtype=int64),\n",
       " array([[16602,     0,     0],\n",
       "        [14166,     0,     0],\n",
       "        [ 7096,     0,     0]], dtype=int64),\n",
       " array([[1444,    0,    0],\n",
       "        [1232,    0,    0],\n",
       "        [ 617,    0,    0]], dtype=int64))"
      ]
     },
     "execution_count": 23,
     "metadata": {},
     "output_type": "execute_result"
    }
   ],
   "source": [
    "# Converts an array with labels 'Positive', 'Negative' and 'Neutral' to array with labels 0, 1 and 2 respectively \n",
    "def convert_labels_into_ints(x):\n",
    "    x = x.flatten()\n",
    "    y = []\n",
    "    for i in range(x.shape[0]):\n",
    "        if x[i] == 'Positive':\n",
    "            y.append(0)\n",
    "        elif x[i] == 'Negative':\n",
    "            y.append(1)\n",
    "        else:\n",
    "            y.append(2)\n",
    "\n",
    "    return y\n",
    "\n",
    "# Confusion matrix for training and validation sets for multinoulli distributed labels\n",
    "cm_train_nb = confusion_matrix(convert_labels_into_ints(training_labels_1), convert_labels_into_ints(inference_training_1))\n",
    "cm_valid_nb = confusion_matrix(convert_labels_into_ints(validation_labels_1), convert_labels_into_ints(inference_validation_1))\n",
    "\n",
    "# Confusion matrix for training and validation sets for randomly guessed labels\n",
    "cm_train_rand = confusion_matrix(convert_labels_into_ints(training_labels_1), convert_labels_into_ints(inference_training_random))\n",
    "cm_valid_rand = confusion_matrix(convert_labels_into_ints(validation_labels_1), convert_labels_into_ints(inference_validation_random))\n",
    "\n",
    "# Confusion matrix for training and validation sets for always positive guessed labels\n",
    "cm_train_pos = confusion_matrix(convert_labels_into_ints(training_labels_1), convert_labels_into_ints(inference_training_positive))\n",
    "cm_valid_pos = confusion_matrix(convert_labels_into_ints(validation_labels_1), convert_labels_into_ints(inference_validation_positive))\n",
    "\n",
    "cm_train_nb, cm_valid_nb, cm_train_rand, cm_valid_rand, cm_train_pos, cm_valid_pos"
   ]
  },
  {
   "cell_type": "markdown",
   "metadata": {},
   "source": [
    "FORMATTING INCLUDING STOPWORD REMOVAL AND STEMMING/LEMMATISING"
   ]
  },
  {
   "cell_type": "code",
   "execution_count": 24,
   "metadata": {},
   "outputs": [],
   "source": [
    "# Function to format the data and modify it using stopword removal and lemmatising\n",
    "def format_data_lemmatising(data):\n",
    "    m = data.shape[1]\n",
    "    labels = data[1].reshape((1, m))\n",
    "    docs = data[2].reshape((1, m))\n",
    "    \n",
    "    # List of punctuation marks which may appear in the document\n",
    "    punctuations = ['.', ',', '$', '@', '#', '/', ':', ';', '&', '~', '(', ')', '[', ']', '{', '}', '-']\n",
    "    \n",
    "    # We iterate over every document and format it\n",
    "    for i in range(m):\n",
    "        doc = docs[0][i]\n",
    "        \n",
    "        # Removing the punctuation marks\n",
    "        temp=''\n",
    "        for char in doc:\n",
    "            if char not in punctuations:\n",
    "                temp = temp + char\n",
    "            else:\n",
    "                temp = temp + ' '\n",
    "        doc = temp\n",
    "\n",
    "        # Changing all characters to lowercase\n",
    "        doc = doc.lower()\n",
    "        # tokenizer = nltk.tokenize.TreebankWordTokenizer()\n",
    "        # tokens = tokenizer.tokenize(doc)\n",
    "        tokens = doc.split()\n",
    "\n",
    "        # Lemmatising the words\n",
    "        lemmatiser = nltk.stem.WordNetLemmatizer()\n",
    "        doc = [lemmatiser.lemmatize(token) for token in tokens]\n",
    "        \n",
    "        # Stopword Removal\n",
    "        final_doc = []\n",
    "        for word in doc:\n",
    "            if word not in stopwords:\n",
    "                final_doc.append(word)\n",
    "        \n",
    "        # Final document after modification\n",
    "        docs[0][i] = \" \".join(final_doc)\n",
    "    \n",
    "    return docs, labels"
   ]
  },
  {
   "cell_type": "markdown",
   "metadata": {},
   "source": [
    "PART-D <br>\n",
    "LEARNING THE MODEL AFTER PERFORMING STEMMING"
   ]
  },
  {
   "cell_type": "code",
   "execution_count": 25,
   "metadata": {},
   "outputs": [
    {
     "data": {
      "text/plain": [
       "(0.8915064441157828, 0.691163073185545)"
      ]
     },
     "execution_count": 25,
     "metadata": {},
     "output_type": "execute_result"
    }
   ],
   "source": [
    "model_2 = Naive_Bayes(training_data_1, format_data_lemmatising, 'UNIGRAM', 0.4)\n",
    "# For smoothening_param < 0.4, training accuracy increases but validation accuracy decreases\n",
    "\n",
    "# Getting labels and documents from validation set\n",
    "validation_docs_2, validation_labels_2 = format_data_lemmatising(validation_data_1)\n",
    "validation_examples_2 = validation_docs_2.shape[1]      # Number of examples in validation set\n",
    "\n",
    "# Predicting the labels for both training and validation set using learnt parameters\n",
    "inference_training_2 = model_2.get_inference(model_2.training_docs)\n",
    "inference_validation_2 = model_2.get_inference(validation_docs_2)\n",
    "\n",
    "# Computing accuracy over training and validation sets\n",
    "accuracy_training_2 = (np.sum(inference_training_2 == model_2.training_labels)) / (model_2.m)\n",
    "accuracy_validation_2 = (np.sum(inference_validation_2 == validation_labels_2)) / validation_examples_2\n",
    "\n",
    "accuracy_training_2, accuracy_validation_2"
   ]
  },
  {
   "cell_type": "markdown",
   "metadata": {},
   "source": [
    "PART-D <br>\n",
    "WORDCLOUDS FOR LEMMATISED DOCUMENTS"
   ]
  },
  {
   "cell_type": "code",
   "execution_count": 26,
   "metadata": {},
   "outputs": [
    {
     "data": {
      "text/plain": [
       "<wordcloud.wordcloud.WordCloud at 0x1f4d30fc590>"
      ]
     },
     "execution_count": 26,
     "metadata": {},
     "output_type": "execute_result"
    }
   ],
   "source": [
    "label_text_lemmatised = {\"Positive\": \"\", \"Negative\": \"\", \"Neutral\": \"\"}\n",
    "\n",
    "# fills the label_text dictionary\n",
    "for i in range(model_2.m):\n",
    "    label = model_2.training_labels[0][i]\n",
    "    doc = model_2.training_docs[0][i]\n",
    "    label_text_lemmatised[label] = \" \".join([label_text_lemmatised[label], doc])\n",
    "\n",
    "# Wordcloud for each label\n",
    "word_cloud_pos_lemm = create_wordcloud(label_text_lemmatised[\"Positive\"])\n",
    "word_cloud_neg_lemm = create_wordcloud(label_text_lemmatised[\"Negative\"])\n",
    "word_cloud_neu_lemm = create_wordcloud(label_text_lemmatised[\"Neutral\"])\n",
    "\n",
    "# Saves the created wordclouds to PNG files\n",
    "word_cloud_pos_lemm.to_file('wc-pos-l.png')\n",
    "word_cloud_neg_lemm.to_file('wc-neg-l.png')\n",
    "word_cloud_neu_lemm.to_file('wc-neu-l.png')"
   ]
  },
  {
   "cell_type": "markdown",
   "metadata": {},
   "source": [
    "PART-E <br>\n",
    "USING BI-GRAMS AS FEATURES"
   ]
  },
  {
   "cell_type": "code",
   "execution_count": 46,
   "metadata": {},
   "outputs": [
    {
     "data": {
      "text/plain": [
       "(0.8973695330657089, 0.6529000911023383)"
      ]
     },
     "execution_count": 46,
     "metadata": {},
     "output_type": "execute_result"
    }
   ],
   "source": [
    "# Using bigrams in addition to unigrams as features\n",
    "model_3 = Naive_Bayes(training_data_1, format_data_lemmatising, 'BIGRAM', 1.2)\n",
    "\n",
    "# Predicting the labels for both training and validation set using learnt parameters\n",
    "inference_training_3 = model_3.get_inference(model_3.training_docs)\n",
    "inference_validation_3 = model_3.get_inference(validation_docs_2)\n",
    "\n",
    "# Computing accuracy over training and validation sets\n",
    "accuracy_training_3 = (np.sum(inference_training_3 == model_3.training_labels)) / (model_3.m)\n",
    "accuracy_validation_3 = (np.sum(inference_validation_3 == validation_labels_2)) / validation_examples_2\n",
    "\n",
    "accuracy_training_3, accuracy_validation_3"
   ]
  },
  {
   "cell_type": "markdown",
   "metadata": {},
   "source": [
    "PART-E <br>\n",
    "ANOTHER FEATURE SCHEME - "
   ]
  },
  {
   "cell_type": "code",
   "execution_count": 50,
   "metadata": {},
   "outputs": [
    {
     "data": {
      "text/plain": [
       "(0.9777361081766321, 0.6544184634072274)"
      ]
     },
     "execution_count": 50,
     "metadata": {},
     "output_type": "execute_result"
    }
   ],
   "source": [
    "model_4 = Naive_Bayes(training_data_1, format_data_lemmatising, '3GRAM', 0.8)\n",
    "\n",
    "# Predicting the labels for both training and validation set using learnt parameters\n",
    "inference_training_4 = model_4.get_inference(model_4.training_docs)\n",
    "inference_validation_4 = model_4.get_inference(validation_docs_2)\n",
    "\n",
    "# Computing accuracy over training and validation sets\n",
    "accuracy_training_4 = (np.sum(inference_training_4 == model_4.training_labels)) / (model_4.m)\n",
    "accuracy_validation_4 = (np.sum(inference_validation_4 == validation_labels_2)) / validation_examples_2\n",
    "\n",
    "accuracy_training_4, accuracy_validation_4"
   ]
  },
  {
   "cell_type": "markdown",
   "metadata": {},
   "source": [
    "PART-F <br>\n",
    "DOMAIN ADAPTATION"
   ]
  },
  {
   "cell_type": "code",
   "execution_count": 31,
   "metadata": {},
   "outputs": [
    {
     "data": {
      "text/plain": [
       "(0.3724320742213386,\n",
       " 0.37475149105367794,\n",
       " 0.4304174950298211,\n",
       " 0.46355202120609673,\n",
       " 0.4638833664678595,\n",
       " 0.5059642147117296,\n",
       " 0.5444002650762094,\n",
       " 0.41915175612988737,\n",
       " 0.4280980781974818,\n",
       " 0.43505632869449967,\n",
       " 0.44201457919151754,\n",
       " 0.46421471172962225,\n",
       " 0.4990059642147117,\n",
       " 0.5410868124585818)"
      ]
     },
     "execution_count": 31,
     "metadata": {},
     "output_type": "execute_result"
    }
   ],
   "source": [
    "# Validation data (target domain)\n",
    "target_validation_data = pd.read_csv('Twitter_validation.csv').to_numpy().T\n",
    "target_validation_docs, target_validation_labels = format_data_lemmatising(target_validation_data)\n",
    "target_validation_examples = target_validation_labels.shape[1]\n",
    "\n",
    "# Computes the accuracy over the validation set when source data is used/not used along with 'target_training_file_name' for training\n",
    "# mode : with = source data used | without = source data not used\n",
    "def domain_adaptation_accuracy(target_training_file_name, mode):\n",
    "    \n",
    "    target_training_data = pd.read_csv(target_training_file_name).to_numpy().T\n",
    "    \n",
    "    # Concatenates the target training data with source data if mode is 'with'\n",
    "    if mode=='with':\n",
    "        training_data = np.concatenate((training_data_1, target_training_data), axis=1)\n",
    "    # Else training data consists of target training data only\n",
    "    else:\n",
    "        training_data = target_training_data\n",
    "    \n",
    "    # Learns the Naive Baye's model on the training data (after lemmatisation) using unigram features\n",
    "    model = Naive_Bayes(training_data, format_data_lemmatising, 'UNIGRAM', 1)\n",
    "    \n",
    "    # Gets the inference on the validation set\n",
    "    inference = model.get_inference(target_validation_docs)\n",
    "\n",
    "    # Computes the accuracy over validation set\n",
    "    accuracy = (np.sum(inference == target_validation_labels)) / (target_validation_examples)\n",
    "\n",
    "    return accuracy\n",
    "\n",
    "# Accuracy for domain adaptation models using source data\n",
    "accuracy_1 = domain_adaptation_accuracy('Twitter_train_1.csv', 'with')\n",
    "accuracy_2 = domain_adaptation_accuracy('Twitter_train_2.csv', 'with')\n",
    "accuracy_5 = domain_adaptation_accuracy('Twitter_train_5.csv', 'with')\n",
    "accuracy_10 = domain_adaptation_accuracy('Twitter_train_10.csv', 'with')\n",
    "accuracy_25 = domain_adaptation_accuracy('Twitter_train_25.csv', 'with')\n",
    "accuracy_50 = domain_adaptation_accuracy('Twitter_train_50.csv', 'with')\n",
    "accuracy_100 = domain_adaptation_accuracy('Twitter_train_100.csv', 'with')\n",
    "\n",
    "# Accuracy for domain adaptation models not using source data\n",
    "accuracy_1_wo = domain_adaptation_accuracy('Twitter_train_1.csv', 'without')\n",
    "accuracy_2_wo = domain_adaptation_accuracy('Twitter_train_2.csv', 'without')\n",
    "accuracy_5_wo = domain_adaptation_accuracy('Twitter_train_5.csv', 'without')\n",
    "accuracy_10_wo = domain_adaptation_accuracy('Twitter_train_10.csv', 'without')\n",
    "accuracy_25_wo = domain_adaptation_accuracy('Twitter_train_25.csv', 'without')\n",
    "accuracy_50_wo = domain_adaptation_accuracy('Twitter_train_50.csv', 'without')\n",
    "accuracy_100_wo = domain_adaptation_accuracy('Twitter_train_100.csv', 'without')\n",
    "\n",
    "accuracy_1_wo, accuracy_2_wo, accuracy_5_wo, accuracy_10_wo, accuracy_25_wo, accuracy_50_wo, accuracy_100_wo, accuracy_1, accuracy_2, accuracy_5, accuracy_10, accuracy_25, accuracy_50, accuracy_100"
   ]
  },
  {
   "cell_type": "markdown",
   "metadata": {},
   "source": [
    "PART-F <br>\n",
    "PLOTTING THE ACCURACIES"
   ]
  },
  {
   "cell_type": "code",
   "execution_count": 32,
   "metadata": {},
   "outputs": [
    {
     "data": {
      "text/plain": [
       "<matplotlib.legend.Legend at 0x1f4ceae8090>"
      ]
     },
     "execution_count": 32,
     "metadata": {},
     "output_type": "execute_result"
    },
    {
     "data": {
      "image/png": "[encoded data removed]",
      "text/plain": [
       "<Figure size 640x480 with 1 Axes>"
      ]
     },
     "metadata": {},
     "output_type": "display_data"
    }
   ],
   "source": [
    "# Plots the accuracies of the models using and not using the source data as we increase the size of the target training data\n",
    "\n",
    "size_target_train_data = [1, 2, 5, 10, 25, 50, 100]\n",
    "\n",
    "accuracies_with = [accuracy_1, accuracy_2, accuracy_5, accuracy_10, accuracy_25, accuracy_50, accuracy_100]\n",
    "accuracies_without = [accuracy_1_wo, accuracy_2_wo, accuracy_5_wo, accuracy_10_wo, accuracy_25_wo, accuracy_50_wo, accuracy_100_wo]\n",
    "\n",
    "plt.plot(size_target_train_data, accuracies_with, label='with', color='blue')\n",
    "plt.plot(size_target_train_data, accuracies_without, label='without', color='red')\n",
    "\n",
    "plt.xlabel('Size')\n",
    "plt.ylabel('Accuracies')\n",
    "plt.legend()"
   ]
  }
 ],
 "metadata": {
  "kernelspec": {
   "display_name": "Python 3",
   "language": "python",
   "name": "python3"
  },
  "language_info": {
   "codemirror_mode": {
    "name": "ipython",
    "version": 3
   },
   "file_extension": ".py",
   "mimetype": "text/x-python",
   "name": "python",
   "nbconvert_exporter": "python",
   "pygments_lexer": "ipython3",
   "version": "3.11.4"
  },
  "orig_nbformat": 4
 },
 "nbformat": 4,
 "nbformat_minor": 2
}
